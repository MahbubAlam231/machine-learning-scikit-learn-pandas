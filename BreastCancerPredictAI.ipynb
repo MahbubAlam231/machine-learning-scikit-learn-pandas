{
 "cells": [
  {
   "cell_type": "markdown",
   "id": "89322bdf",
   "metadata": {},
   "source": [
    "## BreastCancerPredictAI\n",
    "\n",
    "<table style=\"margin-left:0; text-align:left;\">\n",
    "<tr><td><b>Author(s):</b></td><td>Mahbub Alam</td></tr>\n",
    "<tr><td><b>Created:</b></td><td>2025-03-25</td></tr>\n",
    "</table>\n"
   ]
  },
  {
   "cell_type": "markdown",
   "id": "e0d1ae77",
   "metadata": {
    "jupyter": {
     "source_hidden": true
    },
    "tags": [
     "hide-input"
    ]
   },
   "source": [
    "## Preamble\n",
    "\n",
    "Breast Cancer Prediction using Machine Learning\n",
    "This project explores the **Breast Cancer Wisconsin Diagnostic Dataset** to build a machine learning model that can classify tumors as *malignant* or *benign*.\n",
    "The goal is to demonstrate end-to-end ML workflow:\n",
    "- Data loading & cleaning\n",
    "- Exploratory data analysis (EDA)\n",
    "- Feature engineering & preprocessing\n",
    "- Model training & evaluation\n",
    "- Insights and conclusions\n",
    "Such predictive modeling can support early detection and assist healthcare professionals, though models should **never replace medical diagnosis**."
   ]
  },
  {
   "cell_type": "code",
   "execution_count": null,
   "id": "3090cdc8",
   "metadata": {},
   "outputs": [],
   "source": [
    "%matplotlib inline\n",
    "import numpy as np\n",
    "np.set_printoptions(precision=2)\n",
    "import pandas as pd\n",
    "import matplotlib.pyplot as plt\n",
    "import seaborn as sns\n",
    "import scipy\n",
    "import re"
   ]
  },
  {
   "cell_type": "markdown",
   "id": "e989072d",
   "metadata": {},
   "source": [
    "## Data Loading\n",
    "\n",
    " We start by loading the cleaned breast cancer dataset.\n",
    "Each row represents a tumor with various features extracted from digitized images of a fine needle aspirate (FNA).\n",
    "The target column indicates whether the tumor is **malignant (cancerous)** or **benign (non-cancerous)**."
   ]
  },
  {
   "cell_type": "code",
   "execution_count": null,
   "id": "8800c47f",
   "metadata": {},
   "outputs": [],
   "source": [
    "bd = pd.read_csv('breast_cancer_data.csv')"
   ]
  },
  {
   "cell_type": "markdown",
   "id": "c9cc97b7",
   "metadata": {},
   "source": [
    "## Data Preprocessing\n",
    "\n",
    " Machine learning algorithms require clean, numerical, and scaled data.\n",
    "Steps:\n",
    "- Handle missing values (if any)\n",
    "- Encode target labels (Malignant = 1, Benign = 0)\n",
    "- Normalize/standardize features\n",
    "- Split dataset into training and testing sets\n",
    "\n",
    "Looks like there is an extra comma at the end of the columns.\n",
    "It's named \"Unnamed: 32\""
   ]
  },
  {
   "cell_type": "code",
   "execution_count": null,
   "id": "b78ee83e",
   "metadata": {},
   "outputs": [],
   "source": [
    "print(bd.head())\n",
    "print(bd.columns)\n",
    "\n",
    "bd = bd.drop(columns=\"Unnamed: 32\")\n",
    "print(bd.columns)\n",
    "bd.to_csv('breast_cancer_data_cleaned.csv', index=False)\n",
    "\n",
    "# Data already cleaned, loading clean data\n",
    "bd = pd.read_csv('breast_cancer_data_cleaned.csv')\n",
    "print(bd.columns) # Output: ['id', 'diagnosis', 'radius_mean', 'texture_mean', 'perimeter_mean', 'area_mean', 'smoothness_mean', 'compactness_mean', 'concavity_mean', 'concave points_mean', 'symmetry_mean', 'fractal_dimension_mean', 'radius_se', 'texture_se', 'perimeter_se', 'area_se', 'smoothness_se', 'compactness_se', 'concavity_se', 'concave points_se', 'symmetry_se', 'fractal_dimension_se', 'radius_worst', 'texture_worst', 'perimeter_worst', 'area_worst', 'smoothness_worst', 'compactness_worst', 'concavity_worst', 'concave points_worst', 'symmetry_worst', 'fractal_dimension_worst']\n",
    "\n",
    "# No missing data\n",
    "missing_data = bd.isna().any()\n",
    "print(missing_data.any())"
   ]
  },
  {
   "cell_type": "markdown",
   "id": "465b4667",
   "metadata": {},
   "source": [
    "## Exploratory data analysis (EDA)\n",
    "\n",
    " Understanding the dataset is key before building models.\n",
    "We will:\n",
    "- Check class distribution (malignant vs. benign)\n",
    "- Visualize feature distributions\n",
    "- Explore correlations between features"
   ]
  },
  {
   "cell_type": "code",
   "execution_count": null,
   "id": "1fd733f9",
   "metadata": {},
   "outputs": [],
   "source": [
    "print(bd.head())\n",
    "print(bd.info())\n",
    "\n",
    "# Proportion of benign and malignant tumors\n",
    "\n",
    "print(bd['diagnosis'].value_counts())\n",
    "\n",
    "# Creating binary labels for diagnosis\n",
    "def lookup_diagnosis(label):\n",
    "    if label == 'M':\n",
    "        return 1\n",
    "    else:\n",
    "        return 0\n",
    "\n",
    "X = bd.drop(columns=\"diagnosis\")\n",
    "y = pd.factorize(bd[\"diagnosis\"], sort=True)[0]\n",
    "\n",
    "print(X.head())\n",
    "print(y[:5])"
   ]
  },
  {
   "cell_type": "markdown",
   "id": "646c0d1a",
   "metadata": {},
   "source": [
    "## Model Training\n",
    "\n",
    " We will train multiple classifiers (e.g., Logistic Regression, Random Forest, SVM, etc.)\n",
    "and compare their performance to find the most effective model.\n",
    "Evaluation metrics include:\n",
    "- Accuracy\n",
    "- Precision\n",
    "- Recall\n",
    "- F1-score\n",
    "- ROC-AUC"
   ]
  },
  {
   "cell_type": "code",
   "execution_count": null,
   "id": "d4a7715c",
   "metadata": {},
   "outputs": [],
   "source": [
    "from sklearn.linear_model import LogisticRegression\n",
    "\n",
    "log_reg = LogisticRegression(max_iter=1000, random_state=42)\n",
    "\n",
    "log_reg.fit(X, y)\n",
    "\n",
    "# Finding the probabilities for class 1 (malignant)\n",
    "probs = log_reg.predict_proba(X)[:,1]"
   ]
  },
  {
   "cell_type": "markdown",
   "id": "12b34a40",
   "metadata": {},
   "source": [
    "### Deciding a threshold for positive results\n",
    "\n",
    " Given the above probs for each class (0 and 1) it might seem natural to choose 0.5\n",
    "as a threshold for positive result, i.e., if probability for positive is >= 0.5\n",
    "we might naively want to call that a positive result.\n",
    "\n",
    "But a serious diagnosis such as breast cancer should have low threshold to avoid\n",
    "high number of false negatives.\n",
    "Also since the ML algorithms output will be reviewed by professional it is prudent\n",
    "to keep the threshold low.\n",
    "\n",
    "Below we check the precision recall curve to get some ideas about the threshold.\n",
    "\n",
    "#### Definitions\n",
    "\n",
    "P = (actual) positive data points\n",
    "\n",
    "N = (actual) negative data points\n",
    "\n",
    "TP = True positive  : a data point marked positive by the model that is actually positive\n",
    "\n",
    "FP = False positive : a data point marked positive by the model that is actually negative\n",
    "\n",
    "FN = False negative : a data point marked negative by the model that is actually positive\n",
    "\n",
    "Precision = TP / (TP + FP) :\n",
    "Of the points the model called positive, how many were truly positive?\n",
    "Here TP + FP are the number of data points the model marked positive.\n",
    "\n",
    "Recall = TP / (TP + FN) :\n",
    "Of the truly positive points, how many did the model correctly find?\n",
    "Here TP + FN are the number of data points that are actually positive."
   ]
  },
  {
   "cell_type": "code",
   "execution_count": null,
   "id": "3124152c",
   "metadata": {},
   "outputs": [],
   "source": [
    "from sklearn.metrics import accuracy_score, precision_recall_curve, precision_score, recall_score\n",
    "precision, recall, thresholds = precision_recall_curve(y, probs)\n",
    "\n",
    "plt.plot(thresholds, precision[1:], label=\"Precision\")\n",
    "plt.plot(thresholds, recall[1:], label=\"Recall\")\n",
    "plt.xlabel(\"Threshold\")\n",
    "plt.ylabel(\"Score\")\n",
    "plt.legend()\n",
    "plt.show()"
   ]
  },
  {
   "cell_type": "markdown",
   "id": "501e5f72",
   "metadata": {},
   "source": [
    "### Choosing a threshold\n",
    "\n",
    " Since this is a medical application, we don't want the model to miss positives.\n",
    "We care about high recall, about 99%.\n",
    "Let's find a threshold that achieves this."
   ]
  },
  {
   "cell_type": "code",
   "execution_count": null,
   "id": "00345706",
   "metadata": {},
   "outputs": [],
   "source": [
    "from sklearn.metrics import confusion_matrix\n",
    "\n",
    "def pick_threshold_for_recall(y_true, probs, target_recall=0.99):\n",
    "    \"\"\"\n",
    "    Returns the highest threshold whose recall >= target_recall.\n",
    "    Using the highest such threshold usually gives better precision.\n",
    "    \"\"\"\n",
    "    _, recall, thresholds = precision_recall_curve(y_true, probs)\n",
    "    # precision/recall have length = len(thresholds)+1; align by dropping the first PR point\n",
    "    recall_t = recall[1:]\n",
    "    thresholds_t = thresholds\n",
    "\n",
    "    # indices where recall constraint is satisfied\n",
    "    ok = np.where(recall_t >= target_recall)[0]\n",
    "    if len(ok) == 0:\n",
    "        # cannot reach target recall; fall back to threshold=0 (max recall)\n",
    "        chosen = 0.0\n",
    "    else:\n",
    "        # choose the largest threshold that still satisfies recall >= target\n",
    "        chosen = thresholds_t[ok[-1]]\n",
    "    return float(chosen)\n",
    "\n",
    "threshold = pick_threshold_for_recall(y, probs, target_recall=.99)"
   ]
  },
  {
   "cell_type": "markdown",
   "id": "145c1cf1",
   "metadata": {},
   "source": [
    "## Model Evaluation\n",
    "\n",
    " We compare model performance on the test set.\n",
    "Metrics and confusion matrices help us assess:\n",
    "- How well the model detects malignant tumors (sensitivity/recall)\n",
    "- How well it avoids false positives (specificity/precision)\n",
    "\n",
    "The ROC curve and AUC score further summarize predictive power."
   ]
  },
  {
   "cell_type": "code",
   "execution_count": null,
   "id": "ababfe18",
   "metadata": {},
   "outputs": [],
   "source": [
    "def metrics_at_threshold(y_true, probs, threshold):\n",
    "    y_pred = (probs >= threshold).astype(int)\n",
    "    return {\n",
    "        \"threshold\": threshold,\n",
    "        \"precision\": precision_score(y_true, y_pred, zero_division=0),\n",
    "        \"recall\": recall_score(y_true, y_pred, zero_division=0),\n",
    "        \"accuracy\": accuracy_score(y_true, y_pred),\n",
    "        \"confusion_matrix\": confusion_matrix(y_true, y_pred)  # [[TN, FP],[FN, TP]]\n",
    "    }\n",
    "\n",
    "\n",
    "report = metrics_at_threshold(y, probs, threshold)\n",
    "\n",
    "print(report)"
   ]
  },
  {
   "cell_type": "markdown",
   "id": "5b169060",
   "metadata": {},
   "source": [
    "## Conclusion\n",
    "\n",
    " - The models show strong ability to distinguish between malignant and benign tumors.\n",
    "- [Insert best model name here] achieved the highest performance, with [XX%] accuracy and strong recall.\n",
    "- This demonstrates the potential of ML in assisting medical diagnostics.\n",
    "\n",
    "⚠️ Note: This project is for educational and demonstration purposes only.\n",
    "It should **not** be used for clinical decision-making."
   ]
  },
  {
   "cell_type": "markdown",
   "id": "84627099",
   "metadata": {},
   "source": [
    "## Next Steps\n",
    "\n",
    " Potential improvements:\n",
    "- Hyperparameter tuning with GridSearchCV or RandomizedSearchCV\n",
    "- Feature selection to reduce dimensionality\n",
    "- Ensemble methods for better generalization\n",
    "- Deployment as a simple web app (e.g., with Flask or Streamlit)\n",
    "\n",
    "This would make the project even more practical and showcase end-to-end ML engineering skills."
   ]
  }
 ],
 "metadata": {
  "anaconda-cloud": {},
  "kernelspec": {
   "display_name": "Python 3 (ipykernel)",
   "language": "python",
   "name": "python3"
  },
  "language_info": {
   "codemirror_mode": {
    "name": "ipython",
    "version": 3
   },
   "file_extension": ".py",
   "mimetype": "text/x-python",
   "name": "python",
   "nbconvert_exporter": "python",
   "pygments_lexer": "ipython3",
   "version": "3.12.x"
  },
  "vscode": {
   "interpreter": {
    "hash": "aee8b7b246df8f9039afb4144a1f6fd8d2ca17a180786b69acc140d282b71a49"
   }
  }
 },
 "nbformat": 4,
 "nbformat_minor": 5
}
